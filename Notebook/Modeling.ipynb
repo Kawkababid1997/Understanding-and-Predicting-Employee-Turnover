{
 "cells": [
  {
   "cell_type": "code",
   "execution_count": 11,
   "metadata": {},
   "outputs": [
    {
     "data": {
      "text/html": [
       "\n",
       "<style>\n",
       ".output_png {\n",
       "    display: table-cell;\n",
       "    text-align: center;\n",
       "    vertical-align: middle;\n",
       "}\n",
       "</style>\n"
      ],
      "text/plain": [
       "<IPython.core.display.HTML object>"
      ]
     },
     "execution_count": 11,
     "metadata": {},
     "output_type": "execute_result"
    }
   ],
   "source": [
    "from IPython.core.display import HTML\n",
    "HTML(\"\"\"\n",
    "<style>\n",
    ".output_png {\n",
    "    display: table-cell;\n",
    "    text-align: center;\n",
    "    vertical-align: middle;\n",
    "}\n",
    "</style>\n",
    "\"\"\")"
   ]
  },
  {
   "cell_type": "markdown",
   "metadata": {},
   "source": [
    "### Importing Helper File"
   ]
  },
  {
   "cell_type": "code",
   "execution_count": 12,
   "metadata": {},
   "outputs": [
    {
     "name": "stdout",
     "output_type": "stream",
     "text": [
      "The autoreload extension is already loaded. To reload it, use:\n",
      "  %reload_ext autoreload\n"
     ]
    }
   ],
   "source": [
    "import sys\n",
    "import os\n",
    "helper_dir = os.path.join('..','HelperFunction')\n",
    "sys.path.append(helper_dir)\n",
    "import HelperFunction as helpers\n",
    "%load_ext autoreload\n",
    "%autoreload 2"
   ]
  },
  {
   "cell_type": "markdown",
   "metadata": {},
   "source": [
    "### Importing packages"
   ]
  },
  {
   "cell_type": "code",
   "execution_count": 13,
   "metadata": {},
   "outputs": [],
   "source": [
    "import pandas as pd\n",
    "import numpy as np\n",
    "import matplotlib.pyplot as plt\n",
    "import seaborn as sns\n",
    "%matplotlib inline\n",
    "from sklearn.cluster import KMeans\n",
    "from functools import reduce\n",
    "from sklearn.model_selection import train_test_split\n",
    "from sklearn.metrics import accuracy_score, classification_report, precision_score\n",
    "from sklearn.metrics import recall_score, confusion_matrix, precision_recall_curve\n",
    "from sklearn.utils import resample\n",
    "from imblearn.over_sampling import SMOTE\n",
    "from sklearn.linear_model import LogisticRegression\n",
    "from sklearn.ensemble import RandomForestClassifier\n",
    "from sklearn.ensemble import GradientBoostingClassifier\n",
    "from sklearn.model_selection import cross_val_score\n",
    "from sklearn.metrics import roc_curve\n",
    "from sklearn.metrics import roc_auc_score\n",
    "from sklearn.metrics import accuracy_score"
   ]
  },
  {
   "cell_type": "markdown",
   "metadata": {},
   "source": [
    "### Getting the Data Ready"
   ]
  },
  {
   "cell_type": "code",
   "execution_count": 4,
   "metadata": {},
   "outputs": [
    {
     "name": "stdout",
     "output_type": "stream",
     "text": [
      "Loading Data\n",
      "Encoding Data\n"
     ]
    }
   ],
   "source": [
    "##define input\n",
    "hr_data_file = 'data/HR-data.csv.txt'\n",
    "\n",
    "## Define Variable\n",
    "cat_var = ['department', 'salary', 'turnover', 'promotion']\n",
    "num_var = ['satisfaction', 'evaluation', 'projectCount', 'averageMonthlyHours', 'yearsAtCompany', 'workAccident']\n",
    "\n",
    "## load Data\n",
    "print(\"Loading Data\")\n",
    "hr_data = helpers.load_data(hr_data_file, format='csv')\n",
    "hr_data = helpers.renaming_column(hr_data)\n",
    "\n",
    "## Encoding Data\n",
    "print(\"Encoding Data\")\n",
    "hr_data_preprocess = helpers.label_encoding(hr_data, cat_var, num_var)"
   ]
  },
  {
   "cell_type": "markdown",
   "metadata": {},
   "source": [
    "### Split Train/Test Set\n",
    "Let's split data into a train and test set. We will fit our model with the train set and leave our test set for evaluation"
   ]
  },
  {
   "cell_type": "code",
   "execution_count": 5,
   "metadata": {},
   "outputs": [],
   "source": [
    "# Create the X and y set\n",
    "X = hr_data_preprocess.iloc[:, 1:]\n",
    "y = hr_data_preprocess.iloc[:, 0]\n",
    "# Define train and test\n",
    "X_train, X_test, y_train, y_test = train_test_split(X, y, test_size=0.20, random_state=123, stratify = y)"
   ]
  },
  {
   "cell_type": "markdown",
   "metadata": {},
   "source": [
    "### Resample Methods\n",
    "Let's train a base logistic regression model on the three types of samples to see which yields  the best result\n",
    "\n",
    "1. **Orginal Sample**\n",
    "2. **Upsampling Data** Randomly resample the minority class to create new data. **SMOTE** – Use the nearest neighbors of the minority observations to create new synthetic data\n",
    "3. **Downsampling Data** – Remove some sample from the majority class"
   ]
  },
  {
   "cell_type": "code",
   "execution_count": 6,
   "metadata": {},
   "outputs": [
    {
     "data": {
      "text/html": [
       "<div>\n",
       "<style scoped>\n",
       "    .dataframe tbody tr th:only-of-type {\n",
       "        vertical-align: middle;\n",
       "    }\n",
       "\n",
       "    .dataframe tbody tr th {\n",
       "        vertical-align: top;\n",
       "    }\n",
       "\n",
       "    .dataframe thead th {\n",
       "        text-align: right;\n",
       "    }\n",
       "</style>\n",
       "<table border=\"1\" class=\"dataframe\">\n",
       "  <thead>\n",
       "    <tr style=\"text-align: right;\">\n",
       "      <th></th>\n",
       "      <th>Sample Shape</th>\n",
       "      <th>X_train</th>\n",
       "      <th>y_train</th>\n",
       "    </tr>\n",
       "  </thead>\n",
       "  <tbody>\n",
       "    <tr>\n",
       "      <td>0</td>\n",
       "      <td>Orginal</td>\n",
       "      <td>(11999, 18)</td>\n",
       "      <td>(11999,)</td>\n",
       "    </tr>\n",
       "    <tr>\n",
       "      <td>1</td>\n",
       "      <td>Upsampling</td>\n",
       "      <td>(18284, 18)</td>\n",
       "      <td>(18284,)</td>\n",
       "    </tr>\n",
       "    <tr>\n",
       "      <td>2</td>\n",
       "      <td>SMOTE</td>\n",
       "      <td>(18284, 18)</td>\n",
       "      <td>(18284,)</td>\n",
       "    </tr>\n",
       "    <tr>\n",
       "      <td>3</td>\n",
       "      <td>Downsample</td>\n",
       "      <td>(5714, 18)</td>\n",
       "      <td>(5714,)</td>\n",
       "    </tr>\n",
       "  </tbody>\n",
       "</table>\n",
       "</div>"
      ],
      "text/plain": [
       "  Sample Shape      X_train   y_train\n",
       "0      Orginal  (11999, 18)  (11999,)\n",
       "1   Upsampling  (18284, 18)  (18284,)\n",
       "2        SMOTE  (18284, 18)  (18284,)\n",
       "3   Downsample   (5714, 18)   (5714,)"
      ]
     },
     "execution_count": 6,
     "metadata": {},
     "output_type": "execute_result"
    }
   ],
   "source": [
    "# Upsample minority class\n",
    "X_train_u, y_train_u = resample(X_train[y_train == 1],\n",
    "                                y_train[y_train == 1],\n",
    "                                replace = True,\n",
    "                                n_samples = X_train[y_train == 0].shape[0],\n",
    "                                random_state = 1)\n",
    "\n",
    "X_train_u = np.concatenate((X_train[y_train == 0], X_train_u))\n",
    "y_train_u = np.concatenate((y_train[y_train == 0], y_train_u))\n",
    "\n",
    "# Upsample using SMOTE\n",
    "sm = SMOTE(random_state=12)\n",
    "x_train_sm, y_train_sm = sm.fit_sample(X_train, y_train)\n",
    "\n",
    "# Downsample Minority Class\n",
    "X_train_d, y_train_d = resample(X_train[y_train==0],\n",
    "                                y_train[y_train==0],\n",
    "                                replace = True,\n",
    "                                n_samples = X_train[y_train == 1].shape[0],\n",
    "                                random_state = 1)\n",
    "X_train_d = np.concatenate((X_train[y_train == 1], X_train_d))\n",
    "y_train_d = np.concatenate((y_train[y_train == 1], y_train_d))\n",
    "\n",
    "shape = pd.DataFrame({'Sample Shape': ['Orginal', 'Upsampling', 'SMOTE', 'Downsample'],\n",
    "              'X_train': [X_train.shape, X_train_u.shape, x_train_sm.shape, X_train_d.shape],\n",
    "              'y_train': [y_train.shape, y_train_u.shape, y_train_sm.shape, y_train_d.shape]\n",
    "             })\n",
    "\n",
    "shape"
   ]
  },
  {
   "cell_type": "markdown",
   "metadata": {},
   "source": [
    "### Which Sampling Technique is best to use for Model"
   ]
  },
  {
   "cell_type": "code",
   "execution_count": 7,
   "metadata": {},
   "outputs": [
    {
     "name": "stdout",
     "output_type": "stream",
     "text": [
      "The best F1 Score Original data:\n",
      "0.4501\n",
      "The best F1 Score Upsampled data:\n",
      "0.7791\n",
      "The best F1 Score SMOTE data:\n",
      "0.7906\n",
      "The best F1 Score Downsampled data:\n",
      "0.7788\n"
     ]
    }
   ],
   "source": [
    "## Create the original, Upsampled and Downsample traning sets\n",
    "methods_data = {\"Original\": (X_train, y_train),\n",
    "                \"Upsampled\": (X_train_u, y_train_u),\n",
    "                \"SMOTE\": (x_train_sm, y_train_sm),\n",
    "                \"Downsampled\": (X_train_d, y_train_d)}\n",
    "\n",
    "### Loop through each type of training sets and apply 5-Fold CV using Logistic Regression\n",
    "for method in methods_data:\n",
    "    lr_results = cross_val_score(LogisticRegression(max_iter=700), methods_data[method][0], \n",
    "                                 methods_data[method][1], cv=5, scoring = 'f1')\n",
    "    print(f\"The best F1 Score {method} data:\")\n",
    "    print(round(lr_results.mean(),4))"
   ]
  },
  {
   "cell_type": "markdown",
   "metadata": {},
   "source": [
    "**Summary**\n",
    "\n",
    "Applying 5 Fold Cross Validation using Logistic Regression, We trained on Orginal, Upsampled  and downsampled data to see which performs best. We achieve F-1 score for: \n",
    "\n",
    "- Original Sample: 45.01%\n",
    "- Upsample: 77.91%\n",
    "- SMOTE: 79.06%\n",
    "- Downsample: 77.85%\n",
    "\n",
    "There SMOTE gives the best performance. Therefore we use SMOTE to train the model using three estimators as follows:\n",
    "\n",
    "1. **Logistic Regression**\n",
    "\n",
    "2. **Random Forest**\n",
    "\n",
    "3. **Gradient Boosting**"
   ]
  },
  {
   "cell_type": "code",
   "execution_count": 8,
   "metadata": {},
   "outputs": [],
   "source": [
    "# Initialize models list \n",
    "models = []\n",
    "# Define sklearn estimator\n",
    "lr = LogisticRegression(max_iter=700)\n",
    "rf = RandomForestClassifier()\n",
    "gbc = GradientBoostingClassifier()\n",
    "models.extend([lr, gbc, rf])"
   ]
  },
  {
   "cell_type": "markdown",
   "metadata": {},
   "source": [
    "### Train the models and print Summary"
   ]
  },
  {
   "cell_type": "code",
   "execution_count": 9,
   "metadata": {},
   "outputs": [
    {
     "name": "stdout",
     "output_type": "stream",
     "text": [
      "\n",
      "---LogisticRegression Model---\n",
      "LogisticRegression AUC = 0.76\n",
      "              precision    recall  f1-score   support\n",
      "\n",
      "           0       0.91      0.76      0.83      2286\n",
      "           1       0.49      0.76      0.60       714\n",
      "\n",
      "    accuracy                           0.76      3000\n",
      "   macro avg       0.70      0.76      0.71      3000\n",
      "weighted avg       0.81      0.76      0.77      3000\n",
      "\n",
      "\n",
      "---GradientBoostingClassifier Model---\n",
      "GradientBoostingClassifier AUC = 0.96\n",
      "              precision    recall  f1-score   support\n",
      "\n",
      "           0       0.98      0.97      0.98      2286\n",
      "           1       0.92      0.94      0.93       714\n",
      "\n",
      "    accuracy                           0.97      3000\n",
      "   macro avg       0.95      0.96      0.95      3000\n",
      "weighted avg       0.97      0.97      0.97      3000\n",
      "\n",
      "\n",
      "---RandomForestClassifier Model---\n",
      "RandomForestClassifier AUC = 0.98\n",
      "              precision    recall  f1-score   support\n",
      "\n",
      "           0       0.99      0.99      0.99      2286\n",
      "           1       0.97      0.98      0.97       714\n",
      "\n",
      "    accuracy                           0.99      3000\n",
      "   macro avg       0.98      0.98      0.98      3000\n",
      "weighted avg       0.99      0.99      0.99      3000\n",
      "\n"
     ]
    }
   ],
   "source": [
    "for model in models:\n",
    "    helpers.train_and_summarize(model, x_train_sm, X_test, y_train_sm, y_test)"
   ]
  },
  {
   "cell_type": "markdown",
   "metadata": {},
   "source": [
    "### Understanding metrics and determine what metrics to optimize\n",
    "\n",
    "#### Roc Graph"
   ]
  },
  {
   "cell_type": "code",
   "execution_count": 10,
   "metadata": {},
   "outputs": [
    {
     "data": {
      "image/png": "[encoded data removed]",
      "text/plain": [
       "<Figure size 720x432 with 1 Axes>"
      ]
     },
     "metadata": {
      "needs_background": "light"
     },
     "output_type": "display_data"
    }
   ],
   "source": [
    "fpr, tpr, thresholds = roc_curve(y_test, lr.predict_proba(X_test)[:,1])\n",
    "rf_fpr, rf_tpr, rf_thresholds = roc_curve(y_test, rf.predict_proba(X_test)[:,1])\n",
    "gbc_fpr, gbc_tpr, gbc_thresholds = roc_curve(y_test, gbc.predict_proba(X_test)[:,1])\n",
    "\n",
    "plt.figure(figsize = (10,6))\n",
    "\n",
    "# Plot Logistic Regression ROC\n",
    "plt.plot(fpr, tpr, label = 'Logistic Regression (area = %0.2f)' % roc_auc_score(y_test, lr.predict(X_test)))\n",
    "\n",
    "# Plot Random Forest Classifier ROC\n",
    "plt.plot(rf_fpr, rf_tpr, label = 'Random Forest Classifier (area = %0.2f)' % roc_auc_score(y_test, rf.predict(X_test)))\n",
    "\n",
    "# Plot Decision Tree ROC\n",
    "plt.plot(gbc_fpr, gbc_tpr, label = 'Gradient Boosting Classifier (area = %0.2f)' % roc_auc_score(y_test, gbc.predict(X_test)))\n",
    "\n",
    "# Plot Base Rate ROC\n",
    "plt.plot([0,1], [0,1], label = 'Base Rate')\n",
    "plt.xlim([0.0, 1.0])\n",
    "plt.ylim([0.0, 1.05])\n",
    "plt.xlabel('False Positive Rate')\n",
    "plt.ylabel('True Positive Rate')\n",
    "plt.title('ROC Graph')\n",
    "plt.legend(loc = 'lower right')\n",
    "plt.show()"
   ]
  },
  {
   "cell_type": "markdown",
   "metadata": {},
   "source": [
    "The higher top left curve yeilds the better score – in this case the `Random Forest Classifier`. The ROC curve indicates the ratio between the **True Positive Rate** and **False Positive Rate** Therefore it is a more robust metric than accuracy. If we created a model that shows all negatives (predict all 0) we would get approximately 76% accuracy because 76% people in our data did not leave the company. Therefore, accuracy is not right metric to optimize. Thus we discuss precision and recall. "
   ]
  },
  {
   "cell_type": "markdown",
   "metadata": {},
   "source": [
    "#### Confusion Matrix (Recall or Precison)"
   ]
  },
  {
   "cell_type": "code",
   "execution_count": 284,
   "metadata": {},
   "outputs": [
    {
     "data": {
      "image/png": "[encoded data removed]",
      "text/plain": [
       "<Figure size 1008x288 with 4 Axes>"
      ]
     },
     "metadata": {
      "needs_background": "light"
     },
     "output_type": "display_data"
    }
   ],
   "source": [
    "helpers.plot_feature(x = y_test, y = [lr.predict(X_test), gbc.predict(X_test), rf.predict(X_test)],\n",
    "                     title = [ 'Logistic Regression', 'Gradient Boosting', 'Random Forest'], kind = 'heatmap')"
   ]
  },
  {
   "cell_type": "markdown",
   "metadata": {},
   "source": [
    "It depends on how much cost/weight we want on the two types of errors:\n",
    "1. **False Positive**\n",
    "2. **False Negative**\n",
    "\n",
    "What's the coset of having a FN and FP? \n",
    "\n",
    "**Optimize Recall When:**\n",
    "- Want to limit **false negative**\n",
    "- will get more **false positives**\n",
    "- FN > FP \n",
    "\n",
    "**Optimize Precision When:**\n",
    "- want to limit false positives\n",
    "- FP > FN\n",
    "\n",
    "\n",
    "In this employee turnover, which error should we weigh more? \n",
    "- We should weigh more False Negatives and optimize recall because we want to capture as many as employee possible who has high risk of leaving the company. In order to do that, we want to limit the **false negative** because it predicts the employee who will not leave the company but actually does. Limiting this scenario saves the company a great deal of money rather than focusing on the false positive. False positive (Type I error) predicts a person might leave the company and suggests to invest money into them. This type of error is significantly less costly that false negative.   \n",
    "\n",
    "### Random Forest Feature Importance"
   ]
  },
  {
   "cell_type": "code",
   "execution_count": 290,
   "metadata": {},
   "outputs": [
    {
     "data": {
      "image/png": "[encoded data removed]",
      "text/plain": [
       "<Figure size 936x504 with 1 Axes>"
      ]
     },
     "metadata": {},
     "output_type": "display_data"
    }
   ],
   "source": [
    "feature_importance = pd.DataFrame(rf.feature_importances_,\n",
    "                                  index = X_train.columns,\n",
    "                                  columns = ['importance']).sort_values('importance', ascending = False)\n",
    "feature_importance = feature_importance.reset_index()\n",
    "helpers.plot_feature(data = feature_importance, x = 'importance', \n",
    "                     kind = 'feature_importance', y = 'index')"
   ]
  },
  {
   "cell_type": "markdown",
   "metadata": {},
   "source": [
    "### What to optimize\n",
    "\n",
    "We want out machine learning model to capture as much as of the minority class as possible. In this case, turnover group. Our objective is to catch ALL of the highly probable turnover employee at rish of flaggin some low-risk non-turnover employee. \n",
    "\n",
    "### Conclussion\n",
    "\n",
    "**Binary Classification:** Turnover V.S. Non Turnover\n",
    "**Instance Scoring:** Likelihood of employee responding to an offer/incentive to save them from leaving.\n",
    "\n",
    "**Need for Application** Saves employees from leaving.\n",
    "\n",
    "In our employee retention problem, rather than simply predicting whether an employee will leave the company within a certain time frame, we would much rather have an estimate of the probability that he/she will leave the company. We would rank employee by their probability of leaving, then allocate a limited incentive budget to the highest probability instance. \n",
    "\n",
    "Consider employee turnover domain where an employee is given treatment by Human Resources because they think the employee will leave the company within a month but the employee actually does not. This is false positive. This mistake could be expensive, inconvenient, an time consuming for both the Human Resources and employee but is a good investment for relational growth. \n",
    "\n",
    "Compare this with the opposite error where Human Resources does not give treatment/incentives to the employees and they do leave. This is a false negative. This type of error is more detrimental because the company lost an employee, which could lead to great setbacks and more money to rehire. Depending on these errors, different costs are weighed based on the type of employee being treated. For example, if it's a high-salary employee then would we need a costlier form of treatment. What if it's a low-salary employee? The cost for each error is different ad should be weighed accordingly. \n",
    "\n",
    "**Solution 1:**\n",
    "\n",
    "- We can rank employee by their probability of leaving, then allocate a limited incentive budget to the highest probability instances. \n",
    "- OR, we can allocated our incentive budget to the instances with the highest expected loss for which wee will need the probability of turnover. \n",
    "\n",
    "**Solution 2:**\n",
    "\n",
    "- Be a good couch\n",
    "- Emplower the team and do not micromanage\n",
    "- Express interest for team member sucess\n",
    "- Have clear vision / strategy for team\n",
    "- Help teeam with career development\n",
    "\n",
    "### Selection Bias\n",
    "\n",
    "- One thing to note about this dataset is thee turnover feature. We do not know if the employees that left are interns, contractors, full-time or part-time. These are important variables to take into consideration when perfoming a machine learning algorithm to it. \n",
    "\n",
    "- Another thing to note down is the type of bias of the evaluation feature. Evaluation is heavily subjective and can vary tremendously depending on who is the evaluator. If the employee knows the evalutor then he/she will probably have a higher score. "
   ]
  }
 ],
 "metadata": {
  "kernelspec": {
   "display_name": "Python 3",
   "language": "python",
   "name": "python3"
  },
  "language_info": {
   "codemirror_mode": {
    "name": "ipython",
    "version": 3
   },
   "file_extension": ".py",
   "mimetype": "text/x-python",
   "name": "python",
   "nbconvert_exporter": "python",
   "pygments_lexer": "ipython3",
   "version": "3.7.4"
  }
 },
 "nbformat": 4,
 "nbformat_minor": 2
}
